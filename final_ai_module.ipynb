{
  "nbformat": 4,
  "nbformat_minor": 0,
  "metadata": {
    "colab": {
      "provenance": []
    },
    "kernelspec": {
      "name": "python3",
      "display_name": "Python 3"
    },
    "language_info": {
      "name": "python"
    }
  },
  "cells": [
    {
      "cell_type": "code",
      "execution_count": 1,
      "metadata": {
        "id": "-tNdpwE3cXYS"
      },
      "outputs": [],
      "source": [
        "import pandas as pd\n",
        "from sklearn.model_selection import train_test_split\n",
        "from sklearn.linear_model import LinearRegression\n",
        "from sklearn.ensemble import RandomForestRegressor, GradientBoostingRegressor, AdaBoostRegressor, VotingRegressor\n",
        "from sklearn.metrics import mean_squared_error, r2_score\n",
        "import joblib\n",
        "\n",
        "def load_data(filepath):\n",
        "    df = pd.read_csv(filepath)\n",
        "    df = df.dropna()\n",
        "    return df\n",
        "\n",
        "def feature_engineering(df):\n",
        "    # Select relevant features and target\n",
        "    X = df[['hour', 'dc_power', 'daily_yield', 'total_yield']]\n",
        "    y = df['ac_power']\n",
        "    return X, y\n",
        "\n",
        "def train_models(x_train, y_train):\n",
        "    # Linear Regression\n",
        "    lr = LinearRegression()\n",
        "    lr.fit(x_train, y_train)\n",
        "\n",
        "    # Random Forest\n",
        "    rf = RandomForestRegressor(n_estimators=100, random_state=42)\n",
        "    rf.fit(x_train, y_train)\n",
        "\n",
        "    # Gradient Boosting\n",
        "    gbr = GradientBoostingRegressor(n_estimators=100, random_state=42)\n",
        "    gbr.fit(x_train, y_train)\n",
        "\n",
        "    # AdaBoost\n",
        "    adr = AdaBoostRegressor(n_estimators=100, random_state=42)\n",
        "    adr.fit(x_train, y_train)\n",
        "\n",
        "    # Second LR for ensemble\n",
        "    lr2 = LinearRegression()\n",
        "    lr2.fit(x_train, y_train)\n",
        "\n",
        "    # Ensemble Regressor\n",
        "    ensemble = VotingRegressor([\n",
        "        (\"GBR\", gbr),\n",
        "        (\"RFR\", rf),\n",
        "        (\"ADR\", adr),\n",
        "        (\"LR\", lr2)\n",
        "    ])\n",
        "    ensemble.fit(x_train, y_train)\n",
        "\n",
        "    return {\n",
        "        'linear_regression': lr,\n",
        "        'random_forest': rf,\n",
        "        'gradient_boosting': gbr,\n",
        "        'adaboost': adr,\n",
        "        'ensemble': ensemble\n",
        "    }\n",
        "\n",
        "def evaluate_model(model, x_test, y_test):\n",
        "    preds = model.predict(x_test)\n",
        "    mse = mean_squared_error(y_test, preds)\n",
        "    r2 = r2_score(y_test, preds)\n",
        "    return mse, r2, preds\n",
        "\n",
        "def save_model(model, filename):\n",
        "    joblib.dump(model, filename)\n",
        "\n",
        "def load_model(filename):\n",
        "    return joblib.load(filename)\n"
      ]
    },
    {
      "cell_type": "code",
      "source": [],
      "metadata": {
        "id": "7AqaA0l4ntFr"
      },
      "execution_count": null,
      "outputs": []
    }
  ]
}