{
  "nbformat": 4,
  "nbformat_minor": 0,
  "metadata": {
    "colab": {
      "provenance": [],
      "authorship_tag": "ABX9TyMPsj0zo17twi/w/mUHymEg",
      "include_colab_link": true
    },
    "kernelspec": {
      "name": "python3",
      "display_name": "Python 3"
    },
    "language_info": {
      "name": "python"
    }
  },
  "cells": [
    {
      "cell_type": "markdown",
      "metadata": {
        "id": "view-in-github",
        "colab_type": "text"
      },
      "source": [
        "<a href=\"https://colab.research.google.com/github/hellomada/RayField-Systems-Internship-Week-2/blob/notebooks/main_pipeline_for_use.ipynb\" target=\"_parent\"><img src=\"https://colab.research.google.com/assets/colab-badge.svg\" alt=\"Open In Colab\"/></a>"
      ]
    },
    {
      "cell_type": "code",
      "source": [
        "import os\n",
        "\n",
        "# Create folders if they don't exist\n",
        "os.makedirs(\"data\", exist_ok=True)\n",
        "os.makedirs(\"models\", exist_ok=True)\n",
        "os.makedirs(\"diagrams\", exist_ok=True)\n",
        "\n",
        "# Move files to correct folders\n",
        "!mv cleaned_data.csv data/\n",
        "!mv ensemble_model.pkl models/\n"
      ],
      "metadata": {
        "id": "7AqaA0l4ntFr"
      },
      "execution_count": 1,
      "outputs": []
    },
    {
      "cell_type": "code",
      "source": [
        "from final_ai_module import load_data, feature_engineering, evaluate_model, load_model\n",
        "from sklearn.model_selection import train_test_split\n",
        "import pandas as pd\n",
        "import matplotlib.pyplot as plt\n",
        "import seaborn as sns\n",
        "import os\n"
      ],
      "metadata": {
        "id": "jDuREDBAr97i"
      },
      "execution_count": 2,
      "outputs": []
    },
    {
      "cell_type": "code",
      "source": [
        "import importlib\n",
        "import final_ai_module\n",
        "importlib.reload(final_ai_module)\n"
      ],
      "metadata": {
        "id": "YFftXXI2sE0t",
        "colab": {
          "base_uri": "https://localhost:8080/"
        },
        "outputId": "380a7fda-fc06-467e-de29-bc0c6584e3ce"
      },
      "execution_count": 3,
      "outputs": [
        {
          "output_type": "execute_result",
          "data": {
            "text/plain": [
              "<module 'final_ai_module' from '/content/final_ai_module.py'>"
            ]
          },
          "metadata": {},
          "execution_count": 3
        }
      ]
    },
    {
      "cell_type": "code",
      "source": [
        "import os\n",
        "import pandas as pd\n",
        "import matplotlib.pyplot as plt\n",
        "import seaborn as sns\n",
        "\n",
        "from final_ai_module import load_data, feature_engineering, evaluate_model, load_model\n",
        "from sklearn.model_selection import train_test_split\n",
        "from final_ai_module import train_model\n",
        "\n"
      ],
      "metadata": {
        "colab": {
          "base_uri": "https://localhost:8080/",
          "height": 384
        },
        "id": "4nxBsCbAsrZX",
        "outputId": "df74459d-d6bc-43c8-c932-3eccbf831ee5"
      },
      "execution_count": 13,
      "outputs": [
        {
          "output_type": "error",
          "ename": "ImportError",
          "evalue": "cannot import name 'train_model' from 'final_ai_module' (/content/final_ai_module.py)",
          "traceback": [
            "\u001b[0;31m---------------------------------------------------------------------------\u001b[0m",
            "\u001b[0;31mImportError\u001b[0m                               Traceback (most recent call last)",
            "\u001b[0;32m/tmp/ipython-input-61396336.py\u001b[0m in \u001b[0;36m<cell line: 0>\u001b[0;34m()\u001b[0m\n\u001b[1;32m      6\u001b[0m \u001b[0;32mfrom\u001b[0m \u001b[0mfinal_ai_module\u001b[0m \u001b[0;32mimport\u001b[0m \u001b[0mload_data\u001b[0m\u001b[0;34m,\u001b[0m \u001b[0mfeature_engineering\u001b[0m\u001b[0;34m,\u001b[0m \u001b[0mevaluate_model\u001b[0m\u001b[0;34m,\u001b[0m \u001b[0mload_model\u001b[0m\u001b[0;34m\u001b[0m\u001b[0;34m\u001b[0m\u001b[0m\n\u001b[1;32m      7\u001b[0m \u001b[0;32mfrom\u001b[0m \u001b[0msklearn\u001b[0m\u001b[0;34m.\u001b[0m\u001b[0mmodel_selection\u001b[0m \u001b[0;32mimport\u001b[0m \u001b[0mtrain_test_split\u001b[0m\u001b[0;34m\u001b[0m\u001b[0;34m\u001b[0m\u001b[0m\n\u001b[0;32m----> 8\u001b[0;31m \u001b[0;32mfrom\u001b[0m \u001b[0mfinal_ai_module\u001b[0m \u001b[0;32mimport\u001b[0m \u001b[0mtrain_model\u001b[0m  \u001b[0;31m# You'll need to implement this\u001b[0m\u001b[0;34m\u001b[0m\u001b[0;34m\u001b[0m\u001b[0m\n\u001b[0m\u001b[1;32m      9\u001b[0m \u001b[0;34m\u001b[0m\u001b[0m\n",
            "\u001b[0;31mImportError\u001b[0m: cannot import name 'train_model' from 'final_ai_module' (/content/final_ai_module.py)",
            "",
            "\u001b[0;31m---------------------------------------------------------------------------\u001b[0;32m\nNOTE: If your import is failing due to a missing package, you can\nmanually install dependencies using either !pip or !apt.\n\nTo view examples of installing some common dependencies, click the\n\"Open Examples\" button below.\n\u001b[0;31m---------------------------------------------------------------------------\u001b[0m\n"
          ],
          "errorDetails": {
            "actions": [
              {
                "action": "open_url",
                "actionText": "Open Examples",
                "url": "/notebooks/snippets/importing_libraries.ipynb"
              }
            ]
          }
        }
      ]
    },
    {
      "cell_type": "code",
      "source": [
        "\"\"\"\n",
        "SOLAR POWER FORECASTING PIPELINE\n",
        "Delivers AC power output predictions with visualization and automated reporting\n",
        "\"\"\"\n",
        "\n",
        "# -*- coding: utf-8 -*-\n",
        "import os\n",
        "import pandas as pd\n",
        "import matplotlib.pyplot as plt\n",
        "import seaborn as sns\n",
        "from sklearn.ensemble import VotingRegressor, RandomForestRegressor, GradientBoostingRegressor\n",
        "from sklearn.linear_model import LinearRegression\n",
        "from sklearn.model_selection import train_test_split, GridSearchCV\n",
        "from sklearn.metrics import mean_squared_error, r2_score\n",
        "import joblib\n",
        "\n",
        "# ========== Deliverable 7: Reusable Functions (ai_module.py) ==========\n",
        "def load_clean_data(filepath):\n",
        "    \"\"\"Deliverable 1.1: Data loading function\"\"\"\n",
        "    df = pd.read_csv(filepath)\n",
        "    return df.dropna()\n",
        "\n",
        "def engineer_features(df):\n",
        "    \"\"\"Deliverable 2.1/3: Feature engineering (fixed version)\"\"\"\n",
        "    # Create copy of relevant columns first\n",
        "    X = df[['hour', 'dc_power', 'daily_yield', 'total_yield']].copy()\n",
        "\n",
        "    # Add engineered features - now modifying the copy directly\n",
        "    X['rolling_4h_power'] = df['dc_power'].rolling(4).mean().fillna(0)\n",
        "    X['yield_ratio'] = df['daily_yield'] / (df['total_yield'].replace(0, 1e-6))  # More robust zero-division handling\n",
        "\n",
        "    y = df['ac_power'].copy()\n",
        "    return X, y\n",
        "\n",
        "def train_ensemble(X_train, y_train):\n",
        "    \"\"\"Deliverable 2.2/5: Model training with tuning\"\"\"\n",
        "    # Base models\n",
        "    rf = RandomForestRegressor(n_estimators=100, random_state=42)\n",
        "    gbr = GradientBoostingRegressor(random_state=42)\n",
        "    lr = LinearRegression()\n",
        "\n",
        "    # Deliverable 4: Hyperparameter tuning for one model\n",
        "    param_grid = {'n_estimators': [50, 100, 150]}\n",
        "    gbr = GridSearchCV(gbr, param_grid, cv=3).fit(X_train, y_train).best_estimator_\n",
        "\n",
        "    # Deliverable 2: Ensemble model\n",
        "    ensemble = VotingRegressor([\n",
        "        ('rf', rf),\n",
        "        ('gbr', gbr),\n",
        "        ('lr', lr)\n",
        "    ])\n",
        "    return ensemble.fit(X_train, y_train)\n",
        "\n",
        "def generate_summary(model, X_test, y_test):\n",
        "    \"\"\"Deliverable 10/11: Automated summary generation\"\"\"\n",
        "    preds = model.predict(X_test)\n",
        "    mse = mean_squared_error(y_test, preds)\n",
        "    r2 = r2_score(y_test, preds)\n",
        "\n",
        "    summary = f\"\"\"SOLAR FARM PERFORMANCE SUMMARY (Generated)\n",
        "----------------------------------------\n",
        "Model Performance:\n",
        "- Mean Squared Error: {mse:.2f}\n",
        "- R² Score: {r2:.2f}\n",
        "\n",
        "Key Statistics:\n",
        "- Avg Predicted Output: {preds.mean():.2f} kW\n",
        "- Max Predicted Output: {preds.max():.2f} kW\n",
        "- Min Predicted Output: {preds.min():.2f} kW\n",
        "\n",
        "Recommended Actions:\n",
        "- Review periods with output < 50% of max\n",
        "- Check sensor calibration when predictions diverge from actuals\n",
        "\"\"\"\n",
        "    return summary\n",
        "\n",
        "# ========== Deliverable 12: Main Pipeline ==========\n",
        "def main():\n",
        "    print(\"=== SOLAR POWER FORECASTING PIPELINE ===\")\n",
        "\n",
        "    # 1. Data Loading (Deliverable 1)\n",
        "    print(\"\\n🔍 Loading data...\")\n",
        "    df = load_clean_data(\"data/cleaned_data.csv\")\n",
        "    print(f\"✅ Loaded {len(df)} records\")\n",
        "\n",
        "    # 2. Feature Engineering (Deliverable 3)\n",
        "    print(\"\\n🛠 Feature engineering...\")\n",
        "    X, y = engineer_features(df)\n",
        "    X_train, X_test, y_train, y_test = train_test_split(X, y, test_size=0.2, random_state=42)\n",
        "\n",
        "    # 3. Model Training (Deliverable 2/4)\n",
        "    print(\"\\n🤖 Training ensemble model...\")\n",
        "    os.makedirs(\"models\", exist_ok=True)  # Ensure models directory exists\n",
        "    model = train_ensemble(X_train, y_train)\n",
        "    joblib.dump(model, \"models/ensemble_model.pkl\")\n",
        "\n",
        "    # 4. Evaluation (Deliverable 2)\n",
        "    print(\"\\n📊 Evaluating model...\")\n",
        "    preds = model.predict(X_test)\n",
        "    print(f\"MSE: {mean_squared_error(y_test, preds):.2f}\")\n",
        "    print(f\"R²: {r2_score(y_test, preds):.2f}\")\n",
        "\n",
        "    # 5. Visualization (Deliverable 6)\n",
        "    print(\"\\n🎨 Generating visualizations...\")\n",
        "    os.makedirs(\"diagrams\", exist_ok=True)\n",
        "\n",
        "    # Forecast plot\n",
        "    plt.figure(figsize=(12, 6))\n",
        "    plt.plot(y_test.values[:100], label='Actual', color='blue')\n",
        "    plt.plot(preds[:100], label='Predicted', color='orange', linestyle='--')\n",
        "    plt.title(\"AC Power Forecast (First 100 Samples)\")\n",
        "    plt.xlabel(\"Time Index\")\n",
        "    plt.ylabel(\"Power Output (kW)\")\n",
        "    plt.legend()\n",
        "    plt.savefig(\"diagrams/forecast_plot.png\")\n",
        "    plt.close()\n",
        "\n",
        "    # Feature importance\n",
        "    if hasattr(model, 'feature_importances_'):\n",
        "        plt.figure(figsize=(10, 5))\n",
        "        pd.Series(model.feature_importances_, index=X.columns).sort_values().plot.barh()\n",
        "        plt.title(\"Feature Importance\")\n",
        "        plt.savefig(\"diagrams/feature_importance.png\")\n",
        "        plt.close()\n",
        "\n",
        "    # 6. Save Outputs (Deliverable 8)\n",
        "    print(\"\\n💾 Saving outputs...\")\n",
        "    pd.DataFrame({\n",
        "        'actual': y_test,\n",
        "        'predicted': preds\n",
        "    }).to_csv(\"predictions.csv\", index=False)\n",
        "\n",
        "    # 7. Generate Summary (Deliverable 9-11)\n",
        "    with open(\"weekly_summary.txt\", \"w\") as f:\n",
        "        f.write(generate_summary(model, X_test, y_test))\n",
        "\n",
        "    print(\"\\n✅ Pipeline completed successfully!\")\n",
        "    print(\"Outputs generated:\")\n",
        "    print(\"- predictions.csv\")\n",
        "    print(\"- diagrams/forecast_plot.png\")\n",
        "    print(\"- diagrams/feature_importance.png\")\n",
        "    print(\"- weekly_summary.txt\")\n",
        "    print(\"- models/ensemble_model.pkl\")\n",
        "\n",
        "if __name__ == \"__main__\":\n",
        "    main()"
      ],
      "metadata": {
        "colab": {
          "base_uri": "https://localhost:8080/"
        },
        "id": "w1JMdicasvcn",
        "outputId": "3c20618c-3259-4e1a-93ab-36a5bf4eb696"
      },
      "execution_count": 20,
      "outputs": [
        {
          "output_type": "stream",
          "name": "stdout",
          "text": [
            "=== SOLAR POWER FORECASTING PIPELINE ===\n",
            "\n",
            "🔍 Loading data...\n",
            "✅ Loaded 67698 records\n",
            "\n",
            "🛠 Feature engineering...\n",
            "\n",
            "🤖 Training ensemble model...\n",
            "\n",
            "📊 Evaluating model...\n",
            "MSE: 0.53\n",
            "R²: 1.00\n",
            "\n",
            "🎨 Generating visualizations...\n",
            "\n",
            "💾 Saving outputs...\n",
            "\n",
            "✅ Pipeline completed successfully!\n",
            "Outputs generated:\n",
            "- predictions.csv\n",
            "- diagrams/forecast_plot.png\n",
            "- diagrams/feature_importance.png\n",
            "- weekly_summary.txt\n",
            "- models/ensemble_model.pkl\n"
          ]
        }
      ]
    },
    {
      "cell_type": "code",
      "source": [],
      "metadata": {
        "id": "buv3LYrUsNx5"
      },
      "execution_count": null,
      "outputs": []
    }
  ]
}